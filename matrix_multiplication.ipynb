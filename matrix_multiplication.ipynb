{
 "cells": [
  {
   "cell_type": "code",
   "execution_count": 1,
   "id": "6236ce91-28ee-404b-9645-69e69082b14e",
   "metadata": {},
   "outputs": [],
   "source": [
    "from pathlib import Path\n",
    "import pickle, gzip, math, os, time, shutil, matplotlib as mpl, matplotlib.pyplot as plt\n",
    "from urllib.request import urlretrieve\n",
    "from itertools import islice\n",
    "import torch\n",
    "from torch import tensor\n",
    "from random import random"
   ]
  },
  {
   "cell_type": "code",
   "execution_count": 2,
   "id": "8689000a-33dd-4a3b-a3dc-9e7673169b2f",
   "metadata": {},
   "outputs": [],
   "source": [
    "MNIST_URL='https://github.com/mnielsen/neural-networks-and-deep-learning/blob/master/data/mnist.pkl.gz?raw=true'\n",
    "path_data = Path('data')\n",
    "path_data.mkdir(exist_ok=True)\n",
    "path_gz = path_data/'mnist.pkl.gz'"
   ]
  },
  {
   "cell_type": "code",
   "execution_count": 3,
   "id": "fa1e8832-5cf7-40d7-9d23-b9bad0f08cb9",
   "metadata": {},
   "outputs": [],
   "source": [
    "if not path_gz.exists(): urlretrieve(MNIST_URL, path_gz)"
   ]
  },
  {
   "cell_type": "code",
   "execution_count": 4,
   "id": "bc10ea3f-bdbd-49ca-9d50-c4158715f8f8",
   "metadata": {},
   "outputs": [
    {
     "name": "stdout",
     "output_type": "stream",
     "text": [
      "total 16656\n",
      "-rw-rw-r-- 1 joey joey 17051982 Sep  6 17:48 mnist.pkl.gz\n"
     ]
    }
   ],
   "source": [
    "!ls -l data"
   ]
  },
  {
   "cell_type": "code",
   "execution_count": 5,
   "id": "472dec50-9248-48b8-826d-7cef66193720",
   "metadata": {},
   "outputs": [],
   "source": [
    "with gzip.open(path_gz, 'rb') as f: ((x_train, y_train), (x_valid, y_valid), _) = pickle.load(f, encoding=\"latin-1\")"
   ]
  },
  {
   "cell_type": "code",
   "execution_count": 6,
   "id": "f7a89d87-863b-4600-b781-5d7de7b52e05",
   "metadata": {},
   "outputs": [],
   "source": [
    "def chunks(x, sz):\n",
    "    for i in range(0, len(x), sz): yield x[i:i+sz]"
   ]
  },
  {
   "cell_type": "code",
   "execution_count": 7,
   "id": "bc04406e-0443-4dd8-9612-aafd2c8ed60a",
   "metadata": {},
   "outputs": [
    {
     "data": {
      "text/plain": [
       "[1, 2, 3, 4, 5, 6, 7, 8, 9, 10, 11, 12, 13, 14]"
      ]
     },
     "execution_count": 7,
     "metadata": {},
     "output_type": "execute_result"
    }
   ],
   "source": [
    "vals = list(range(1, 15))\n",
    "vals"
   ]
  },
  {
   "cell_type": "code",
   "execution_count": 8,
   "id": "f5ee50a5-9ed2-48fb-bfe7-f8301f5d1201",
   "metadata": {},
   "outputs": [
    {
     "data": {
      "text/plain": [
       "[[1, 2, 3, 4, 5], [6, 7, 8, 9, 10], [11, 12, 13, 14]]"
      ]
     },
     "execution_count": 8,
     "metadata": {},
     "output_type": "execute_result"
    }
   ],
   "source": [
    "list(chunks(vals, 5))"
   ]
  },
  {
   "cell_type": "code",
   "execution_count": 9,
   "id": "6033b51e-fcea-4173-acd2-4bfa0480c5b8",
   "metadata": {},
   "outputs": [],
   "source": [
    "chunked = chunks(vals, 5)"
   ]
  },
  {
   "cell_type": "code",
   "execution_count": 10,
   "id": "754d452f-8730-4f50-812c-1b4b81721b62",
   "metadata": {},
   "outputs": [
    {
     "data": {
      "text/plain": [
       "[1, 2, 3, 4, 5]"
      ]
     },
     "execution_count": 10,
     "metadata": {},
     "output_type": "execute_result"
    }
   ],
   "source": [
    "next(chunked)"
   ]
  },
  {
   "cell_type": "code",
   "execution_count": 11,
   "id": "b1facc83-d1b4-4175-95f7-9b5342f90016",
   "metadata": {},
   "outputs": [],
   "source": [
    "img01 = x_train[0]"
   ]
  },
  {
   "cell_type": "code",
   "execution_count": 12,
   "id": "fe01631b-5eb9-4dda-b100-afb7420bf4aa",
   "metadata": {},
   "outputs": [
    {
     "data": {
      "text/plain": [
       "<matplotlib.image.AxesImage at 0x7fbd0badc790>"
      ]
     },
     "execution_count": 12,
     "metadata": {},
     "output_type": "execute_result"
    },
    {
     "data": {
      "image/png": "[encoded data removed]",
      "text/plain": [
       "<Figure size 640x480 with 1 Axes>"
      ]
     },
     "metadata": {},
     "output_type": "display_data"
    }
   ],
   "source": [
    "mpl.rcParams['image.cmap']='gray'\n",
    "plt.imshow(list(chunks(img01, 28)))"
   ]
  },
  {
   "cell_type": "code",
   "execution_count": 13,
   "id": "98b7a824-c329-49cf-a012-dd0a48771286",
   "metadata": {},
   "outputs": [],
   "source": [
    "it = iter(img01)\n",
    "img = list(iter(lambda: list(islice(it, 28)), []))"
   ]
  },
  {
   "cell_type": "code",
   "execution_count": 14,
   "id": "8943f61a-b796-4fb4-ba29-0a42fff0dab8",
   "metadata": {},
   "outputs": [
    {
     "data": {
      "text/plain": [
       "<matplotlib.image.AxesImage at 0x7fbc41a14d90>"
      ]
     },
     "execution_count": 14,
     "metadata": {},
     "output_type": "execute_result"
    },
    {
     "data": {
      "image/png": "[encoded data removed]",
      "text/plain": [
       "<Figure size 640x480 with 1 Axes>"
      ]
     },
     "metadata": {},
     "output_type": "display_data"
    }
   ],
   "source": [
    "plt.imshow(img)"
   ]
  },
  {
   "cell_type": "code",
   "execution_count": 15,
   "id": "f1755506-08b2-4de7-a06c-dde2c2b598eb",
   "metadata": {},
   "outputs": [],
   "source": [
    "class Matrix:\n",
    "    def __init__(self, xs): self.xs = xs\n",
    "    def __getitem__(self, idxs): return self.xs[idxs[0]][idxs[1]]"
   ]
  },
  {
   "cell_type": "code",
   "execution_count": 16,
   "id": "11c18c2f-63ea-401e-b7dc-3d38d35bbad1",
   "metadata": {},
   "outputs": [
    {
     "data": {
      "text/plain": [
       "0.98828125"
      ]
     },
     "execution_count": 16,
     "metadata": {},
     "output_type": "execute_result"
    }
   ],
   "source": [
    "m = Matrix(img)\n",
    "m[20,15]"
   ]
  },
  {
   "cell_type": "code",
   "execution_count": 17,
   "id": "d67d8a04-30d8-4951-9ea1-3dc569355760",
   "metadata": {},
   "outputs": [],
   "source": [
    "tens = tensor(img)"
   ]
  },
  {
   "cell_type": "code",
   "execution_count": 18,
   "id": "1e20b5dd-a344-4e97-9d18-2bb588c140a1",
   "metadata": {},
   "outputs": [
    {
     "data": {
      "text/plain": [
       "tensor(0.9883)"
      ]
     },
     "execution_count": 18,
     "metadata": {},
     "output_type": "execute_result"
    }
   ],
   "source": [
    "tens[20,15]"
   ]
  },
  {
   "cell_type": "code",
   "execution_count": 19,
   "id": "16ac1f97-4e0c-4d9f-93e5-748dac494a6a",
   "metadata": {},
   "outputs": [],
   "source": [
    "x_train, y_train, x_valid, y_valid = map(tensor, (x_train, y_train, x_valid, y_valid))"
   ]
  },
  {
   "cell_type": "code",
   "execution_count": 20,
   "id": "7e8f1d05-cffc-4992-b717-ba077494ee9c",
   "metadata": {},
   "outputs": [
    {
     "data": {
      "text/plain": [
       "'torch.FloatTensor'"
      ]
     },
     "execution_count": 20,
     "metadata": {},
     "output_type": "execute_result"
    }
   ],
   "source": [
    "x_train.type()"
   ]
  },
  {
   "cell_type": "code",
   "execution_count": 21,
   "id": "ad3e3525-aebf-45c4-b818-094f6c31d69b",
   "metadata": {},
   "outputs": [
    {
     "data": {
      "text/plain": [
       "torch.Size([50000, 784])"
      ]
     },
     "execution_count": 21,
     "metadata": {},
     "output_type": "execute_result"
    }
   ],
   "source": [
    "x_train.shape"
   ]
  },
  {
   "cell_type": "code",
   "execution_count": 22,
   "id": "bdda12ec-144f-4d23-8ccd-ff7b3779a234",
   "metadata": {},
   "outputs": [],
   "source": [
    "imgs = x_train.reshape([-1, 28, 28])"
   ]
  },
  {
   "cell_type": "code",
   "execution_count": 23,
   "id": "4766bb30-b2d6-4dad-8b24-d8745ebefe8b",
   "metadata": {},
   "outputs": [
    {
     "data": {
      "text/plain": [
       "torch.Size([50000, 28, 28])"
      ]
     },
     "execution_count": 23,
     "metadata": {},
     "output_type": "execute_result"
    }
   ],
   "source": [
    "imgs.shape"
   ]
  },
  {
   "cell_type": "code",
   "execution_count": 24,
   "id": "1af025b5-33d1-4778-a6c5-dc44f5790876",
   "metadata": {},
   "outputs": [
    {
     "data": {
      "text/plain": [
       "tensor(0.9883)"
      ]
     },
     "execution_count": 24,
     "metadata": {},
     "output_type": "execute_result"
    }
   ],
   "source": [
    "imgs[0,20,15]"
   ]
  },
  {
   "cell_type": "code",
   "execution_count": 25,
   "id": "b74976c7-8552-46c8-869e-478d5b9f38d9",
   "metadata": {},
   "outputs": [
    {
     "name": "stdout",
     "output_type": "stream",
     "text": [
      "234 µs ± 6.06 µs per loop (mean ± std. dev. of 7 runs, 10 loops each)\n"
     ]
    }
   ],
   "source": [
    "%timeit -n 10 list(chunks([random() for _ in range(7840)], 10))"
   ]
  },
  {
   "cell_type": "code",
   "execution_count": 26,
   "id": "a4b36929-71b1-4c8b-ae66-909067d7d619",
   "metadata": {},
   "outputs": [
    {
     "name": "stdout",
     "output_type": "stream",
     "text": [
      "20.7 µs ± 5.99 µs per loop (mean ± std. dev. of 7 runs, 10 loops each)\n"
     ]
    }
   ],
   "source": [
    "%timeit -n 10 torch.randn(784, 10)"
   ]
  },
  {
   "cell_type": "markdown",
   "id": "8b482b96-39ed-4670-8437-e37f50fbfda7",
   "metadata": {},
   "source": [
    "So torch randn is definitely faster than using python random with our iter chunking method so we will use torch going forward."
   ]
  },
  {
   "cell_type": "markdown",
   "id": "03588676-f8f2-40b3-93ca-59f241ffa782",
   "metadata": {},
   "source": [
    "## Matrix Multiplication "
   ]
  },
  {
   "cell_type": "code",
   "execution_count": 27,
   "id": "7f2b97f7-ce47-4987-8747-b3364bcd8339",
   "metadata": {},
   "outputs": [],
   "source": [
    "torch.manual_seed(1)\n",
    "weights = torch.randn(784, 10)\n",
    "bias = torch.zeros(10)"
   ]
  },
  {
   "cell_type": "code",
   "execution_count": 28,
   "id": "b8d0a7d8-8841-4d36-8875-be2e06f07a89",
   "metadata": {},
   "outputs": [],
   "source": [
    "m1 = x_valid[:5]  # Our first matrix is the first five images from our dataset\n",
    "m2 = weights # The second matrix is the weights from our first nn layer"
   ]
  },
  {
   "cell_type": "code",
   "execution_count": 29,
   "id": "15044258-68a5-4689-9dbe-3ed95c90ded0",
   "metadata": {},
   "outputs": [
    {
     "data": {
      "text/plain": [
       "(torch.Size([5, 784]), torch.Size([784, 10]))"
      ]
     },
     "execution_count": 29,
     "metadata": {},
     "output_type": "execute_result"
    }
   ],
   "source": [
    "m1.shape, m2.shape"
   ]
  },
  {
   "cell_type": "code",
   "execution_count": 30,
   "id": "35cbd9a8-53b9-4c67-bb74-f345407bba34",
   "metadata": {},
   "outputs": [
    {
     "data": {
      "text/plain": [
       "(5, 784, 784, 10)"
      ]
     },
     "execution_count": 30,
     "metadata": {},
     "output_type": "execute_result"
    }
   ],
   "source": [
    "ar, ac = m1.shape\n",
    "br, bc = m2.shape\n",
    "ar, ac, br, bc # our shape info"
   ]
  },
  {
   "cell_type": "code",
   "execution_count": 31,
   "id": "d056b95f-0eb7-4652-bb3b-be390cbb01a2",
   "metadata": {},
   "outputs": [
    {
     "data": {
      "text/plain": [
       "torch.Size([5, 10])"
      ]
     },
     "execution_count": 31,
     "metadata": {},
     "output_type": "execute_result"
    }
   ],
   "source": [
    "t1 = torch.zeros(ar, bc) #result matrix\n",
    "t1.shape"
   ]
  },
  {
   "cell_type": "code",
   "execution_count": 32,
   "id": "464d676d-bad1-40c6-81b1-f1b08b67245f",
   "metadata": {},
   "outputs": [],
   "source": [
    "for i in range(ar): # loop over 5 rows in first matrix\n",
    "    for j in range(bc): # loop over 10 columns in second matrix (here is defined the shape of our output)\n",
    "        for k in range(ac): # loop over the 784 values of the intersecting ac, br\n",
    "            t1[i,j] += m1[i,k] * m2[k,j]"
   ]
  },
  {
   "cell_type": "code",
   "execution_count": 33,
   "id": "05565a8d-dcab-4c37-80f4-9b88b867db35",
   "metadata": {},
   "outputs": [
    {
     "data": {
      "text/plain": [
       "tensor([[-10.9417,  -0.6844,  -7.0038,  -4.0066,  -2.0857,  -3.3588,   3.9127,\n",
       "          -3.4375, -11.4696,  -2.1153],\n",
       "        [ 14.5430,   5.9977,   2.8914,  -4.0777,   6.5914, -14.7383,  -9.2787,\n",
       "           2.1577, -15.2772,  -2.6758],\n",
       "        [  2.2204,  -3.2171,  -4.7988,  -6.0453,  14.1661,  -8.9824,  -4.7922,\n",
       "          -5.4446, -20.6758,  13.5657],\n",
       "        [ -6.7097,   8.8998,  -7.4611,  -7.8966,   2.6994,  -4.7260, -11.0278,\n",
       "         -12.9776,  -6.4443,   3.6376],\n",
       "        [ -2.4444,  -6.4034,  -2.3984,  -9.0371,  11.1772,  -5.7724,  -8.9214,\n",
       "          -3.7862,  -8.9827,   5.2797]])"
      ]
     },
     "execution_count": 33,
     "metadata": {},
     "output_type": "execute_result"
    }
   ],
   "source": [
    "t1"
   ]
  },
  {
   "cell_type": "code",
   "execution_count": 34,
   "id": "eae6bf60-0738-4945-9a84-cf1324eeb6ae",
   "metadata": {},
   "outputs": [
    {
     "data": {
      "text/plain": [
       "tensor([[-10.94,  -0.68,  -7.00,  -4.01,  -2.09,  -3.36,   3.91,  -3.44, -11.47,  -2.12],\n",
       "        [ 14.54,   6.00,   2.89,  -4.08,   6.59, -14.74,  -9.28,   2.16, -15.28,  -2.68],\n",
       "        [  2.22,  -3.22,  -4.80,  -6.05,  14.17,  -8.98,  -4.79,  -5.44, -20.68,  13.57],\n",
       "        [ -6.71,   8.90,  -7.46,  -7.90,   2.70,  -4.73, -11.03, -12.98,  -6.44,   3.64],\n",
       "        [ -2.44,  -6.40,  -2.40,  -9.04,  11.18,  -5.77,  -8.92,  -3.79,  -8.98,   5.28]])"
      ]
     },
     "execution_count": 34,
     "metadata": {},
     "output_type": "execute_result"
    }
   ],
   "source": [
    "torch.set_printoptions(precision=2, linewidth=140, sci_mode=False)\n",
    "t1"
   ]
  },
  {
   "cell_type": "code",
   "execution_count": 41,
   "id": "2c12482c-a673-4c63-aa36-55515af0a171",
   "metadata": {},
   "outputs": [],
   "source": [
    "def matmul(a, b):\n",
    "    ar, ac = a.shape\n",
    "    br, bc = b.shape\n",
    "    t1 = torch.zeros(ar, bc) #result matrix\n",
    "    for i in range(ar): # loop over 5 rows in first matrix\n",
    "        for j in range(bc): # loop over 10 columns in second matrix (here is defined the shape of our output)\n",
    "            for k in range(ac): # loop over the 784 values of the intersecting ac, br\n",
    "                t1[i,j] += m1[i,k] * m2[k,j]\n",
    "    return t1"
   ]
  },
  {
   "cell_type": "code",
   "execution_count": 42,
   "id": "8fa63239-22fc-40c9-9f70-5acf0b3e4bd3",
   "metadata": {},
   "outputs": [
    {
     "name": "stdout",
     "output_type": "stream",
     "text": [
      "CPU times: user 253 ms, sys: 1.41 ms, total: 254 ms\n",
      "Wall time: 254 ms\n"
     ]
    }
   ],
   "source": [
    "%time _=matmul(m1, m2)"
   ]
  },
  {
   "cell_type": "markdown",
   "id": "68f49eb7-a9a5-4160-9ae3-5160ee9811a1",
   "metadata": {},
   "source": [
    "> This is a little slow..."
   ]
  },
  {
   "cell_type": "code",
   "execution_count": 43,
   "id": "0e5b70d0-a75f-4028-80c8-58fa64bd0d73",
   "metadata": {},
   "outputs": [],
   "source": [
    "from numba import njit\n",
    "# this annotation will cause this function to be compiled to machine code the first time it is run\n",
    "@njit\n",
    "def dot(a,b): \n",
    "    res = 0.\n",
    "    for i in range(len(a)): res+=a[i] * b[i]\n",
    "    return res"
   ]
  },
  {
   "cell_type": "code",
   "execution_count": 44,
   "id": "ea85ebef-5751-4be2-8ead-1f3bfc920187",
   "metadata": {},
   "outputs": [],
   "source": [
    "from numpy import array"
   ]
  },
  {
   "cell_type": "code",
   "execution_count": 45,
   "id": "8c2ca1e6-05ae-42ec-b4f8-6734692c7130",
   "metadata": {},
   "outputs": [
    {
     "name": "stdout",
     "output_type": "stream",
     "text": [
      "CPU times: user 35 ms, sys: 3.46 ms, total: 38.5 ms\n",
      "Wall time: 38 ms\n"
     ]
    },
    {
     "data": {
      "text/plain": [
       "20.0"
      ]
     },
     "execution_count": 45,
     "metadata": {},
     "output_type": "execute_result"
    }
   ],
   "source": [
    "%time dot(array([1.,2,3]), array([2.,3,4]))"
   ]
  },
  {
   "cell_type": "code",
   "execution_count": 46,
   "id": "9ca005f1-5288-4f8e-ab6a-297dd616a449",
   "metadata": {},
   "outputs": [
    {
     "name": "stdout",
     "output_type": "stream",
     "text": [
      "CPU times: user 11 µs, sys: 7 µs, total: 18 µs\n",
      "Wall time: 20.7 µs\n"
     ]
    },
    {
     "data": {
      "text/plain": [
       "20.0"
      ]
     },
     "execution_count": 46,
     "metadata": {},
     "output_type": "execute_result"
    }
   ],
   "source": [
    "%time dot(array([1.,2,3]), array([2.,3,4]))"
   ]
  },
  {
   "cell_type": "markdown",
   "id": "06c36ad3-80c8-47fe-9462-85977a9d6059",
   "metadata": {},
   "source": [
    "time is way down after initial compile!"
   ]
  },
  {
   "cell_type": "code",
   "execution_count": 55,
   "id": "f9f11fc2-280a-4643-8930-6d87e0fe70fd",
   "metadata": {},
   "outputs": [],
   "source": [
    "def matmul(a, b):\n",
    "    ar, ac = a.shape\n",
    "    br, bc = b.shape\n",
    "    t1 = torch.zeros(ar, bc) #result matrix\n",
    "    for i in range(ar): # loop over 5 rows in first matrix\n",
    "        for j in range(bc): # loop over 10 columns in second matrix (here is defined the shape of our output)\n",
    "            t1[i,j] = dot(a[i, :], b[:, j])\n",
    "    return t1"
   ]
  },
  {
   "cell_type": "code",
   "execution_count": 56,
   "id": "edbe2e44-d088-4c95-a264-7d4574d9e55c",
   "metadata": {},
   "outputs": [],
   "source": [
    "from fastcore.test import *"
   ]
  },
  {
   "cell_type": "code",
   "execution_count": 57,
   "id": "8039ef31-a341-4f53-b3f1-c7b6736c25a1",
   "metadata": {},
   "outputs": [],
   "source": [
    "m1a, m2a = m1.numpy(), m2.numpy()"
   ]
  },
  {
   "cell_type": "code",
   "execution_count": 60,
   "id": "b1391def-dee4-4f8c-a78a-2f395d8b85f7",
   "metadata": {},
   "outputs": [],
   "source": [
    "test_close(t1, matmul(m1a, m2a))"
   ]
  },
  {
   "cell_type": "code",
   "execution_count": 61,
   "id": "1a3ed9ee-bdf9-4d02-82fe-1ae1b432394a",
   "metadata": {},
   "outputs": [
    {
     "name": "stdout",
     "output_type": "stream",
     "text": [
      "143 µs ± 10.4 µs per loop (mean ± std. dev. of 7 runs, 50 loops each)\n"
     ]
    }
   ],
   "source": [
    "%timeit -n 50 matmul(m1a, m2a)"
   ]
  },
  {
   "cell_type": "markdown",
   "id": "5a96d588-818a-4f17-9869-63e315b05dcf",
   "metadata": {},
   "source": [
    "> much faster!!!"
   ]
  },
  {
   "cell_type": "code",
   "execution_count": null,
   "id": "6fc749b9-dd7f-4cc5-a26e-21e65af74bf5",
   "metadata": {},
   "outputs": [],
   "source": []
  }
 ],
 "metadata": {
  "kernelspec": {
   "display_name": "Python 3 (ipykernel)",
   "language": "python",
   "name": "python3"
  },
  "language_info": {
   "codemirror_mode": {
    "name": "ipython",
    "version": 3
   },
   "file_extension": ".py",
   "mimetype": "text/x-python",
   "name": "python",
   "nbconvert_exporter": "python",
   "pygments_lexer": "ipython3",
   "version": "3.11.5"
  }
 },
 "nbformat": 4,
 "nbformat_minor": 5
}
